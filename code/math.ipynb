{
 "cells": [
  {
   "cell_type": "code",
   "execution_count": 2,
   "metadata": {},
   "outputs": [
    {
     "name": "stdout",
     "output_type": "stream",
     "text": [
      "Matrix([[n_x*p_x - n_x*p_y*γ + n_x*p_z*β - n_x*q_x + n_x*t_x + n_y*p_x*γ + n_y*p_y - n_y*p_z*α - n_y*q_y + n_y*t_y - n_z*p_x*β + n_z*p_y*α + n_z*p_z - n_z*q_z + n_z*t_z]])\n"
     ]
    }
   ],
   "source": [
    "import sympy\n",
    "from sympy import symbols, Matrix\n",
    "sympy.init_printing(use_unicode=True)\n",
    "\n",
    "\n",
    "α, β, γ, t_x, t_y, t_z = symbols('α β γ t_x t_y t_z')\n",
    "p_x, p_y, p_z, q_x, q_y, q_z, n_x, n_y, n_z = symbols('p_x p_y p_z q_x q_y q_z n_x n_y n_z')\n",
    "\n",
    "\n",
    "δR = Matrix([[1, -γ, β],\n",
    "             [γ, 1, -α],\n",
    "             [-β, α, 1]])\n",
    "p_prime = Matrix([p_x, p_y, p_z])\n",
    "δt = Matrix([t_x, t_y, t_z])\n",
    "n_q = Matrix([[n_x, n_y, n_z]])\n",
    "q_i = Matrix([q_x, q_y, q_z])\n",
    "\n",
    "\n",
    "ri = n_q * (δR * p_prime + δt - q_i)\n",
    "ri = ri.expand()\n",
    "print(ri)\n",
    "\n",
    "\n",
    "\n",
    "\n",
    "\n"
   ]
  },
  {
   "cell_type": "code",
   "execution_count": 35,
   "metadata": {},
   "outputs": [
    {
     "data": {
      "image/png": "[encoded data removed]",
      "text/latex": [
       "$\\displaystyle \\left[ - n_{y} p_{z} + n_{z} p_{y}, \\  n_{x} p_{z} - n_{z} p_{x}, \\  - n_{x} p_{y} + n_{y} p_{x}, \\  n_{x}, \\  n_{y}, \\  n_{z}\\right]$"
      ],
      "text/plain": [
       "[-n_y⋅p_z + n_z⋅p_y, nₓ⋅p_z - n_z⋅pₓ, -nₓ⋅p_y + n_y⋅pₓ, nₓ, n_y, n_z]"
      ]
     },
     "execution_count": 35,
     "metadata": {},
     "output_type": "execute_result"
    }
   ],
   "source": [
    "# Factor out the common terms\n",
    "ri[0].collect([α, β, γ, t_x, t_y, t_z])\n",
    "\n",
    "A_i = [-n_q[1]*p_prime[2] + n_q[2]*p_prime[1], n_q[0]*p_prime[2] - n_q[2]*p_prime[0], -n_q[0]*p_prime[1] + n_q[1]*p_prime[0], n_q[0], n_q[1], n_q[2]]\n",
    "A_i\n",
    "# A_i = Matrix(A_i)\n",
    "# print(A_i)\n",
    "\n",
    "# b_i = n_x * p_x - n_x * q_x + n_y * p_y - n_y * q_y + n_z * p_z - n_z * q_z\n",
    "# b_i = Matrix([b_i])\n",
    "# print(b_i)\n",
    "# ri"
   ]
  }
 ],
 "metadata": {
  "kernelspec": {
   "display_name": "base",
   "language": "python",
   "name": "python3"
  },
  "language_info": {
   "codemirror_mode": {
    "name": "ipython",
    "version": 3
   },
   "file_extension": ".py",
   "mimetype": "text/x-python",
   "name": "python",
   "nbconvert_exporter": "python",
   "pygments_lexer": "ipython3",
   "version": "3.11.5"
  }
 },
 "nbformat": 4,
 "nbformat_minor": 2
}
